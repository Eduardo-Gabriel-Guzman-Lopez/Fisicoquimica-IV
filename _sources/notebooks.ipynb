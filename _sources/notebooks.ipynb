{
 "cells": [
  {
   "cell_type": "markdown",
   "metadata": {},
   "source": [
    "# Ejemplos del uso de python"
   ]
  },
  {
   "cell_type": "markdown",
   "metadata": {},
   "source": [
    "## Comentarios "
   ]
  },
  {
   "cell_type": "code",
   "execution_count": null,
   "metadata": {},
   "outputs": [],
   "source": [
    "# Esto es un comentario\n",
    "print(\"Hola, mundo\")"
   ]
  },
  {
   "cell_type": "markdown",
   "metadata": {},
   "source": [
    "## Operaciones aritméticas"
   ]
  },
  {
   "cell_type": "code",
   "execution_count": null,
   "metadata": {},
   "outputs": [],
   "source": [
    "# Suma\n",
    "print(5 + 3)\n",
    "\n",
    "# Resta\n",
    "print(10 - 2)\n",
    "\n",
    "# Multiplicación\n",
    "print(4 * 2)\n",
    "\n",
    "# División\n",
    "print(8 / 2)\n",
    "\n",
    "# Módulo (resto de la división)\n",
    "print(10 % 3)\n",
    "\n",
    "# Potencia\n",
    "print(2 ** 3)\n",
    "\n",
    "# División entera\n",
    "print(9 // 2)"
   ]
  },
  {
   "cell_type": "markdown",
   "metadata": {},
   "source": [
    "## Librerias"
   ]
  },
  {
   "cell_type": "markdown",
   "metadata": {},
   "source": [
    "### math"
   ]
  },
  {
   "cell_type": "code",
   "execution_count": null,
   "metadata": {},
   "outputs": [],
   "source": [
    "import math\n",
    "\n",
    "# Ejemplo utilizando math.pi y math.sin()\n",
    "print(\"El seno de π es:\", math.sin(math.pi))\n",
    "\n",
    "# Ejemplo calculando la raíz cuadrada de 4 con math.sqrt()\n",
    "print(\"La raíz cuadrada de 4 es:\", math.sqrt(4))"
   ]
  },
  {
   "cell_type": "markdown",
   "metadata": {},
   "source": [
    "### numpy"
   ]
  },
  {
   "cell_type": "code",
   "execution_count": null,
   "metadata": {},
   "outputs": [],
   "source": [
    "import numpy as np\n",
    "\n",
    "# Crear un arreglo de numpy\n",
    "arreglo = np.array([np.pi, np.pi/2, np.pi/4])\n",
    "\n",
    "# Calcular el seno del arreglo\n",
    "seno_arreglo = np.sin(arreglo)\n",
    "print(\"El seno del arreglo es:\", seno_arreglo)\n",
    "\n",
    "# Calcular la raíz cuadrada de cada elemento en un nuevo arreglo\n",
    "raiz_arreglo = np.sqrt([1, 4, 9])\n",
    "print(\"La raíz cuadrada del arreglo es:\", raiz_arreglo)"
   ]
  },
  {
   "cell_type": "markdown",
   "metadata": {},
   "source": [
    "### matplotlib.pyplot"
   ]
  },
  {
   "cell_type": "code",
   "execution_count": null,
   "metadata": {},
   "outputs": [],
   "source": [
    "import numpy as np\n",
    "import matplotlib.pyplot as plt\n",
    "\n",
    "x = np.linspace(0, 2 * np.pi, 100)\n",
    "y = np.sin(x)\n",
    "\n",
    "plt.plot(x, y)\n",
    "plt.title(\"Función Seno\")\n",
    "plt.xlabel(\"x\")\n",
    "plt.ylabel(\"sin(x)\")\n",
    "plt.show()"
   ]
  }
 ],
 "metadata": {
  "kernelspec": {
   "display_name": "Python 3 (ipykernel)",
   "language": "python",
   "name": "python3"
  },
  "language_info": {
   "codemirror_mode": {
    "name": "ipython",
    "version": 3
   },
   "file_extension": ".py",
   "mimetype": "text/x-python",
   "name": "python",
   "nbconvert_exporter": "python",
   "pygments_lexer": "ipython3",
   "version": "3.10.8"
  },
  "widgets": {
   "application/vnd.jupyter.widget-state+json": {
    "state": {},
    "version_major": 2,
    "version_minor": 0
   }
  }
 },
 "nbformat": 4,
 "nbformat_minor": 4
}
